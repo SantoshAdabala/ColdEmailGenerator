{
 "cells": [
  {
   "cell_type": "code",
   "execution_count": 1,
   "metadata": {},
   "outputs": [],
   "source": [
    "# %pip install langchain-groq"
   ]
  },
  {
   "cell_type": "code",
   "execution_count": 2,
   "metadata": {},
   "outputs": [
    {
     "name": "stdout",
     "output_type": "stream",
     "text": [
      "The main character in Iron Man is Tony Stark, also known as Iron Man, played by Robert Downey Jr.\n"
     ]
    }
   ],
   "source": [
    "from langchain_groq import ChatGroq\n",
    "\n",
    "llm = ChatGroq(\n",
    "    model = \"llama-3.1-70b-versatile\",\n",
    "    groq_api_key = \"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\",\n",
    "    temperature=0,\n",
    "    max_retries=2,\n",
    "    \n",
    ")\n",
    "response = llm.invoke(\"The the name of character played in Iron Man?\")\n",
    "print(response.content)"
   ]
  },
  {
   "cell_type": "code",
   "execution_count": 3,
   "metadata": {},
   "outputs": [],
   "source": [
    "# pip install chromadb\n"
   ]
  },
  {
   "cell_type": "code",
   "execution_count": 4,
   "metadata": {},
   "outputs": [],
   "source": [
    "# %pip install -qU langchain_community beautifulsoup4"
   ]
  },
  {
   "cell_type": "code",
   "execution_count": 5,
   "metadata": {},
   "outputs": [
    {
     "name": "stderr",
     "output_type": "stream",
     "text": [
      "USER_AGENT environment variable not set, consider setting it to identify your requests.\n"
     ]
    },
    {
     "name": "stdout",
     "output_type": "stream",
     "text": [
      "Apply for Software Engineer II - Workday Integration, ITC\n",
      "\n",
      "Search JobsSkip navigationSearch JobsNIKE, INC. JOBSContract JobsJoin The Talent CommunityLife @ NikeOverviewBenefitsBrandsOverviewJordanConverseTeamsOverviewAdministrative SupportAdvanced InnovationAir Manufacturing InnovationAviationCommunicationsCustomer ServiceDesignDigitalFacilitiesFinance & AccountingGovernment & Public AffairsHuman ResourcesInsights & AnalyticsLegalManufacturing & EngineeringMarketingMerchandisingPlanningPrivacyProcurementProduct Creation, Development & ManagementRetail CorporateRetail StoresSalesSocial & Community ImpactSports MarketingStrategic PlanningSupply Chain, Distribution & LogisticsSustainabilityTechnologyLocationsOverviewNike WHQNike New York HQEHQ: Hilversum, The NetherlandsELC: Laakdal, BelgiumGreater China HQDiversity, Equity & InclusionOverviewMilitary InclusionDisability InclusionIndigenous InclusionInternshipsTechnologySoftware Engineer II - Workday Integration, ITCKarnataka, IndiaBecome a Part of the NIKE, Inc. TeamNIKE, Inc. does more than outfit the world’s best athletes. It is a place to explore potential, obliterate boundaries and push out the edges of what can be. The company looks for people who can grow, think, dream and create. Its culture thrives by embracing diversity and rewarding imagination. The brand seeks achievers, leaders and visionaries. At NIKE, Inc. it’s about each person bringing skills and passion to a challenging and constantly evolving game.NIKE is a technology company. From our flagship website and five-star mobile apps to developing products, managing big data and providing leading edge engineering and systems support, our teams at NIKE Global Technology exist to revolutionize the future at the confluence of tech and sport. We invest and develop advances in technology and employ the most creative people in the world, and then give them the support to constantly innovate, iterate and serve consumers more directly and personally.  Our teams are innovative, diverse, multidisciplinary and collaborative, taking technology into the future and bringing the world with it.WHO YOU’LL WORK WITHYou will report to the HR Technology leader and be our liaison between the HR Transformation Program and our HR Business team. You will represent HR Tech Integration team, partnering across our HR business team to ensure we are well represented. Extended stakeholder partners will include other HR Project Managers, HR Functional Leaders, our Technology teams, as well as data requestors across HR.WHO WE ARE LOOKING FORWe’re looking for a Workday Integration Specialist to support HR Services and Operations. This role will sit within our HR Technology Engineering - the team who supports Workday Integration solutions for Core HR Shared Services, Payroll, Total Rewards Operations, Talent Operations, Talent Acquisition, and Learning & Development.As a Workday Software Integration Engineer, you will work with the team of engineers working on integrations across products. You will be responsible to develop, test, and deploy integrations required to meet business requirements. You will be driving the technical deliverables to be delivered on time.5+ years of experience building integrations and software development.3+ Workday Integrations with Workday Studio, EIB, Core Connectors and payroll connectors (PECI) and their related tools such as XML, XSLT3+ years' experience integrating systems with third-party service vendorsExperience with Web Services (WSDL, SOAP), EDI and Flat file integrationsAt least one full implementation of Workday, with demonstrated Workday technical and integrations experienceAdvanced understanding of the complete software implementation lifecycle including integration requirements gathering, design, development, testing, and move to productionKnowledge of SaaS applications, SaaS deployment models, and SaaS DevOpsAbility to collaboratively work with Product owners in the implementation of the technical content in Agile Framework.Workday Studio Certification preferredExperience with Object Oriented concepts preferredDetail oriented with superior analytical, problem solving, pragmatism and organization skillsAbility to pick up new technologies and common applicationsWHAT YOU’LL WORK ONYou will work with stakeholders across multiple functions to ensure Workday Integration requirements are completed and built in Workday to fit the needs of our teammates. As a Workday Integration Specialist you will partner closely with the people team to build a foundation for the project efforts by capturing the business context – problem definition, current state, objectives, business case, desired future state definition, etc. and possible methods of configuration within the various Workday Modules and vendor systems.Create detailed system integration specifications, field mapping, and process designsEvaluate, communicate, and coordinate the technical impacts of application configuration decisions.Collaborate closely with the Product Managers and Configuration Engineers to understand their integrations needs.Maintain up-to-date integration design documentation to reflect any changesConduct root cause analysis to determine appropriate action plan for break/fix.Ensure 100% alignment to all policy, processes, and procedures.Maintain discretion and confidentiality in all areas of HR data and information, whether internal to Nike or customer specific.NIKE, Inc. is a growth company that looks for team members to grow with it. Nike offers a generous total rewards package, casual work environment, a diverse and inclusive culture, and an electric atmosphere for professional development. No matter the location, or the role, every Nike employee shares one galvanizing mission: To bring inspiration and innovation to every athlete* in the world.NIKE, Inc. is committed to employing a diverse workforce. Qualified applicants will receive consideration without regard to race, color, religion, sex, national origin, age, sexual orientation, gender identity, gender expression, veteran status, or disability.How We HireAt NIKE, Inc. we promise to provide a premium, inclusive, compelling and authentic candidate experience. Delivering on this promise means we allow you to be at your best — and to do that, you need to understand how the hiring process works. Transparency is key.\n",
      "\n",
      "* This overview explains our hiring process for corporate roles. Note there may be different hiring steps involved for non-corporate roles.Start nowBenefitsWhether it’s transportation or financial health, we continually invest in our employees to help them achieve greatness — inside and outside of work. All who work here should be able to realize their full potential.Employee Assistance ProgramHolidaysMedical PlanPaid Time Off (PTO)Product DiscountsLearn moreGIFT CARDSPROMOTIONSFIND A STORESIGN UP FOR EMAILBECOME A MEMBERNIKE JOURNALSEND US FEEDBACKGET HELPGET HELPOrder StatusShipping and DeliveryReturnsPayment OptionsGift Cards BalanceContact UsABOUT NIKEABOUT NIKENewsCareersInvestorsPurposeSustainabilityUnited States© 2024 Nike, Inc. All Rights ReservedGuidesNike AdaptNike Air MaxNike FlyleatherNike ReactSpace HippieNike AirNike FlyEaseNike Free Nike VaporflyNike Air Force 1 Nike FlyknitNike JoyrideNike ZoomXTerms of SaleTerms of UseNike Privacy PolicyYour Privacy ChoicesCA Supply Chain Act\n"
     ]
    }
   ],
   "source": [
    "from langchain_community.document_loaders import WebBaseLoader\n",
    "\n",
    "\n",
    "\n",
    "loader = WebBaseLoader(\"https://jobs.nike.com/job/R-39383\")\n",
    "page_data = loader.load().pop().page_content\n",
    "print(page_data)"
   ]
  },
  {
   "cell_type": "code",
   "execution_count": 6,
   "metadata": {},
   "outputs": [
    {
     "name": "stdout",
     "output_type": "stream",
     "text": [
      "```json\n",
      "{\n",
      "  \"role\": \"Software Engineer II - Workday Integration, ITC\",\n",
      "  \"experience\": \"5+ years of experience building integrations and software development\",\n",
      "  \"skills\": [\n",
      "    \"Workday Studio, EIB, Core Connectors and payroll connectors (PECI)\",\n",
      "    \"XML, XSLT\",\n",
      "    \"Web Services (WSDL, SOAP), EDI and Flat file integrations\",\n",
      "    \"SaaS applications, SaaS deployment models, and SaaS DevOps\",\n",
      "    \"Object Oriented concepts\",\n",
      "    \"Agile Framework\"\n",
      "  ],\n",
      "  \"description\": \"We’re looking for a Workday Integration Specialist to support HR Services and Operations. This role will sit within our HR Technology Engineering - the team who supports Workday Integration solutions for Core HR Shared Services, Payroll, Total Rewards Operations, Talent Operations, Talent Acquisition, and Learning & Development.\"\n",
      "}\n",
      "```\n"
     ]
    }
   ],
   "source": [
    "from langchain_core.prompts import PromptTemplate\n",
    "\n",
    "prompt_extract = PromptTemplate.from_template(\n",
    "    \"\"\"\n",
    "    ### SCRAPED TEXT FROM WEBSITE:\n",
    "    {page_data}\n",
    "    ### INSTRUCTION:\n",
    "    The scraped text is from the career's page of a website.\n",
    "    Your job is to extract the job postings and return them in JSON format  containing \n",
    "    following keys: 'role', 'experience', 'skills' and 'description'.\n",
    "    Only return the valid JSON\n",
    "    ### VALID JSON (NO PREAMBLE):\n",
    "    \n",
    "    \n",
    "    \"\"\"\n",
    "    \n",
    ")\n",
    "chain_extract = prompt_extract | llm\n",
    "res = chain_extract.invoke(input={'page_data': page_data})\n",
    "print(res.content)   \n"
   ]
  },
  {
   "cell_type": "code",
   "execution_count": 7,
   "metadata": {},
   "outputs": [
    {
     "data": {
      "text/plain": [
       "{'role': 'Software Engineer II - Workday Integration, ITC',\n",
       " 'experience': '5+ years of experience building integrations and software development',\n",
       " 'skills': ['Workday Studio, EIB, Core Connectors and payroll connectors (PECI)',\n",
       "  'XML, XSLT',\n",
       "  'Web Services (WSDL, SOAP), EDI and Flat file integrations',\n",
       "  'SaaS applications, SaaS deployment models, and SaaS DevOps',\n",
       "  'Object Oriented concepts',\n",
       "  'Agile Framework'],\n",
       " 'description': 'We’re looking for a Workday Integration Specialist to support HR Services and Operations. This role will sit within our HR Technology Engineering - the team who supports Workday Integration solutions for Core HR Shared Services, Payroll, Total Rewards Operations, Talent Operations, Talent Acquisition, and Learning & Development.'}"
      ]
     },
     "execution_count": 7,
     "metadata": {},
     "output_type": "execute_result"
    }
   ],
   "source": [
    "from langchain_core.output_parsers import JsonOutputParser\n",
    "\n",
    "json_parser = JsonOutputParser()\n",
    "json_res = json_parser.parse(res.content)\n",
    "json_res"
   ]
  },
  {
   "cell_type": "code",
   "execution_count": 8,
   "metadata": {},
   "outputs": [],
   "source": [
    "# pip install pandas"
   ]
  },
  {
   "cell_type": "code",
   "execution_count": 9,
   "metadata": {},
   "outputs": [
    {
     "data": {
      "text/html": [
       "<div>\n",
       "<style scoped>\n",
       "    .dataframe tbody tr th:only-of-type {\n",
       "        vertical-align: middle;\n",
       "    }\n",
       "\n",
       "    .dataframe tbody tr th {\n",
       "        vertical-align: top;\n",
       "    }\n",
       "\n",
       "    .dataframe thead th {\n",
       "        text-align: right;\n",
       "    }\n",
       "</style>\n",
       "<table border=\"1\" class=\"dataframe\">\n",
       "  <thead>\n",
       "    <tr style=\"text-align: right;\">\n",
       "      <th></th>\n",
       "      <th>Techstack</th>\n",
       "      <th>Links</th>\n",
       "    </tr>\n",
       "  </thead>\n",
       "  <tbody>\n",
       "    <tr>\n",
       "      <th>0</th>\n",
       "      <td>React, Node.js, MongoDB</td>\n",
       "      <td>https://example.com/react-portfolio</td>\n",
       "    </tr>\n",
       "    <tr>\n",
       "      <th>1</th>\n",
       "      <td>Angular,.NET, SQL Server</td>\n",
       "      <td>https://example.com/angular-portfolio</td>\n",
       "    </tr>\n",
       "    <tr>\n",
       "      <th>2</th>\n",
       "      <td>Vue.js, Ruby on Rails, PostgreSQL</td>\n",
       "      <td>https://example.com/vue-portfolio</td>\n",
       "    </tr>\n",
       "    <tr>\n",
       "      <th>3</th>\n",
       "      <td>Python, Django, MySQL</td>\n",
       "      <td>https://example.com/python-portfolio</td>\n",
       "    </tr>\n",
       "    <tr>\n",
       "      <th>4</th>\n",
       "      <td>Java, Spring Boot, Oracle</td>\n",
       "      <td>https://example.com/java-portfolio</td>\n",
       "    </tr>\n",
       "    <tr>\n",
       "      <th>5</th>\n",
       "      <td>Flutter, Firebase, GraphQL</td>\n",
       "      <td>https://example.com/flutter-portfolio</td>\n",
       "    </tr>\n",
       "    <tr>\n",
       "      <th>6</th>\n",
       "      <td>WordPress, PHP, MySQL</td>\n",
       "      <td>https://example.com/wordpress-portfolio</td>\n",
       "    </tr>\n",
       "    <tr>\n",
       "      <th>7</th>\n",
       "      <td>Magento, PHP, MySQL</td>\n",
       "      <td>https://example.com/magento-portfolio</td>\n",
       "    </tr>\n",
       "    <tr>\n",
       "      <th>8</th>\n",
       "      <td>React Native, Node.js, MongoDB</td>\n",
       "      <td>https://example.com/react-native-portfolio</td>\n",
       "    </tr>\n",
       "    <tr>\n",
       "      <th>9</th>\n",
       "      <td>iOS, Swift, Core Data</td>\n",
       "      <td>https://example.com/ios-portfolio</td>\n",
       "    </tr>\n",
       "    <tr>\n",
       "      <th>10</th>\n",
       "      <td>Android, Java, Room Persistence</td>\n",
       "      <td>https://example.com/android-portfolio</td>\n",
       "    </tr>\n",
       "    <tr>\n",
       "      <th>11</th>\n",
       "      <td>Kotlin, Android, Firebase</td>\n",
       "      <td>https://example.com/kotlin-android-portfolio</td>\n",
       "    </tr>\n",
       "    <tr>\n",
       "      <th>12</th>\n",
       "      <td>Android TV, Kotlin, Android NDK</td>\n",
       "      <td>https://example.com/android-tv-portfolio</td>\n",
       "    </tr>\n",
       "    <tr>\n",
       "      <th>13</th>\n",
       "      <td>iOS, Swift, ARKit</td>\n",
       "      <td>https://example.com/ios-ar-portfolio</td>\n",
       "    </tr>\n",
       "    <tr>\n",
       "      <th>14</th>\n",
       "      <td>Cross-platform, Xamarin, Azure</td>\n",
       "      <td>https://example.com/xamarin-portfolio</td>\n",
       "    </tr>\n",
       "    <tr>\n",
       "      <th>15</th>\n",
       "      <td>Backend, Kotlin, Spring Boot</td>\n",
       "      <td>https://example.com/kotlin-backend-portfolio</td>\n",
       "    </tr>\n",
       "    <tr>\n",
       "      <th>16</th>\n",
       "      <td>Frontend, TypeScript, Angular</td>\n",
       "      <td>https://example.com/typescript-frontend-portfolio</td>\n",
       "    </tr>\n",
       "    <tr>\n",
       "      <th>17</th>\n",
       "      <td>Full-stack, JavaScript, Express.js</td>\n",
       "      <td>https://example.com/full-stack-js-portfolio</td>\n",
       "    </tr>\n",
       "    <tr>\n",
       "      <th>18</th>\n",
       "      <td>Machine Learning, Python, TensorFlow</td>\n",
       "      <td>https://example.com/ml-python-portfolio</td>\n",
       "    </tr>\n",
       "    <tr>\n",
       "      <th>19</th>\n",
       "      <td>DevOps, Jenkins, Docker</td>\n",
       "      <td>https://example.com/devops-portfolio</td>\n",
       "    </tr>\n",
       "  </tbody>\n",
       "</table>\n",
       "</div>"
      ],
      "text/plain": [
       "                               Techstack  \\\n",
       "0                React, Node.js, MongoDB   \n",
       "1               Angular,.NET, SQL Server   \n",
       "2      Vue.js, Ruby on Rails, PostgreSQL   \n",
       "3                  Python, Django, MySQL   \n",
       "4              Java, Spring Boot, Oracle   \n",
       "5             Flutter, Firebase, GraphQL   \n",
       "6                  WordPress, PHP, MySQL   \n",
       "7                    Magento, PHP, MySQL   \n",
       "8         React Native, Node.js, MongoDB   \n",
       "9                  iOS, Swift, Core Data   \n",
       "10       Android, Java, Room Persistence   \n",
       "11             Kotlin, Android, Firebase   \n",
       "12       Android TV, Kotlin, Android NDK   \n",
       "13                     iOS, Swift, ARKit   \n",
       "14        Cross-platform, Xamarin, Azure   \n",
       "15          Backend, Kotlin, Spring Boot   \n",
       "16         Frontend, TypeScript, Angular   \n",
       "17    Full-stack, JavaScript, Express.js   \n",
       "18  Machine Learning, Python, TensorFlow   \n",
       "19               DevOps, Jenkins, Docker   \n",
       "\n",
       "                                                Links  \n",
       "0                 https://example.com/react-portfolio  \n",
       "1               https://example.com/angular-portfolio  \n",
       "2                   https://example.com/vue-portfolio  \n",
       "3                https://example.com/python-portfolio  \n",
       "4                  https://example.com/java-portfolio  \n",
       "5               https://example.com/flutter-portfolio  \n",
       "6             https://example.com/wordpress-portfolio  \n",
       "7               https://example.com/magento-portfolio  \n",
       "8          https://example.com/react-native-portfolio  \n",
       "9                   https://example.com/ios-portfolio  \n",
       "10              https://example.com/android-portfolio  \n",
       "11       https://example.com/kotlin-android-portfolio  \n",
       "12           https://example.com/android-tv-portfolio  \n",
       "13               https://example.com/ios-ar-portfolio  \n",
       "14              https://example.com/xamarin-portfolio  \n",
       "15       https://example.com/kotlin-backend-portfolio  \n",
       "16  https://example.com/typescript-frontend-portfolio  \n",
       "17        https://example.com/full-stack-js-portfolio  \n",
       "18            https://example.com/ml-python-portfolio  \n",
       "19               https://example.com/devops-portfolio  "
      ]
     },
     "execution_count": 9,
     "metadata": {},
     "output_type": "execute_result"
    }
   ],
   "source": [
    "import pandas as pd\n",
    "data = pd.read_csv('my_portfolio.csv')\n",
    "data"
   ]
  },
  {
   "cell_type": "code",
   "execution_count": 10,
   "metadata": {},
   "outputs": [],
   "source": [
    "\n",
    "import uuid\n",
    "\n",
    "def generateUUID():\n",
    "    return str(uuid4())"
   ]
  },
  {
   "cell_type": "code",
   "execution_count": 11,
   "metadata": {},
   "outputs": [],
   "source": [
    "import chromadb\n",
    "client = chromadb.PersistentClient('vectorstore')\n",
    "collection = client.get_or_create_collection(name= 'portfolio')\n",
    "\n",
    "if not collection.count():\n",
    "    for _, row in data.iterrows():\n",
    "        collection.add(documents= row['Techstack'],\n",
    "                       metadatas={\"links\": row[\"Links\"]},\n",
    "                       ids=[str(uuid.uuid4())])\n",
    "        "
   ]
  },
  {
   "cell_type": "code",
   "execution_count": 12,
   "metadata": {},
   "outputs": [
    {
     "data": {
      "text/plain": [
       "[[{'links': 'https://example.com/ml-python-portfolio'},\n",
       "  {'links': 'https://example.com/python-portfolio'}],\n",
       " [{'links': 'https://example.com/react-portfolio'},\n",
       "  {'links': 'https://example.com/react-native-portfolio'}]]"
      ]
     },
     "execution_count": 12,
     "metadata": {},
     "output_type": "execute_result"
    }
   ],
   "source": [
    "links = collection.query(query_texts=[\"Experience in Python\", \"Expertise in React\"], n_results=2).get('metadatas')\n",
    "links"
   ]
  },
  {
   "cell_type": "code",
   "execution_count": 13,
   "metadata": {},
   "outputs": [
    {
     "data": {
      "text/plain": [
       "['Workday Studio, EIB, Core Connectors and payroll connectors (PECI)',\n",
       " 'XML, XSLT',\n",
       " 'Web Services (WSDL, SOAP), EDI and Flat file integrations',\n",
       " 'SaaS applications, SaaS deployment models, and SaaS DevOps',\n",
       " 'Object Oriented concepts',\n",
       " 'Agile Framework']"
      ]
     },
     "execution_count": 13,
     "metadata": {},
     "output_type": "execute_result"
    }
   ],
   "source": [
    "job = json_res\n",
    "job['skills']"
   ]
  },
  {
   "cell_type": "code",
   "execution_count": 14,
   "metadata": {},
   "outputs": [
    {
     "name": "stdout",
     "output_type": "stream",
     "text": [
      "Subject: Application for Software Engineer II - Workday Integration, ITC\n",
      "\n",
      "Dear Hiring Manager,\n",
      "\n",
      "I am excited to apply for the Software Engineer II - Workday Integration, ITC role at your esteemed organization. As a detail-oriented and results-driven professional with a strong background in data analysis and software development, I am confident that my skills and experience make me an ideal fit for this position.\n",
      "\n",
      "Although my background is in data science, I have developed a strong foundation in software development and integration, which I believe can be leveraged to drive success in this role. At Parlay Finance, I contributed to building sophisticated financial instruments and optimizing portfolio management strategies using blockchain, demonstrating my ability to work with complex systems and integrate multiple technologies. Additionally, my experience with automating investment strategies and leveraging machine learning techniques like K-Means clustering and Random Forest has given me a unique understanding of how to approach complex problem-solving.\n",
      "\n",
      "In my previous role at Accenture, I delivered predictive models and insights that enhanced financial processes, improved loan eligibility evaluations, and optimized system integration. I effectively communicated actionable insights to stakeholders using tools like Tableau, and I am proficient in SQL, Python, and cloud platforms. I believe that my experience with data analysis and software development can be applied to the Workday Integration Specialist role, particularly in integrating HR systems and optimizing workflows.\n",
      "\n",
      "I am particularly drawn to this role because of the opportunity to work with Workday Studio, EIB, Core Connectors, and payroll connectors (PECI), as well as XML, XSLT, and Web Services (WSDL, SOAP). Although I don't have direct experience with these technologies, I am eager to learn and apply my problem-solving skills to drive success in this role.\n",
      "\n",
      "I am excited about the opportunity to bring my skills and experience to your team and contribute to the success of your organization. Thank you for considering my application. I would welcome the opportunity to discuss my qualifications further and explain in greater detail why I am the ideal candidate for this role.\n",
      "\n",
      "Best regards,\n",
      "\n",
      "Siva Naga Santosh Adabala\n"
     ]
    }
   ],
   "source": [
    "prompt_email = PromptTemplate.from_template(\n",
    "        \"\"\"\n",
    "        ### JOB DESCRIPTION:\n",
    "        {job_description}\n",
    "\n",
    "        ### INSTRUCTION:\n",
    "        You are Siva Naga Santosh Adabala, a Data Scientist at Parlay Finance and a former Data Analyst at Accenture with over 3 years of experience. At Parlay Finance, a decentralized finance (DeFi) platform, you contributed to building sophisticated financial instruments, optimizing portfolio management strategies using blockchain, and developing data-driven investment solutions for both retail and institutional investors. You have hands-on experience in leveraging machine learning techniques like K-Means clustering and Random Forest to improve lending recommendation systems, as well as automating investment strategies.\n",
    "\n",
    "        At Accenture, you delivered predictive models and insights that enhanced financial processes, improved loan eligibility evaluations, and optimized system integration, resulting in significant performance improvements. You effectively communicated actionable insights to stakeholders using tools like Tableau, and you are proficient in SQL, Python, and cloud platforms.\n",
    "\n",
    "        Write a cold email highlighting your experience and how your skill set aligns with the job description provided above. Reference relevant accomplishments from Accenture and Parlay Finance to showcase your technical expertise and problem-solving ability. Ensure the email is concise, professional, and emphasizes how your background makes you an ideal fit for fulfilling the company's needs.\n",
    "\n",
    "        ### EMAIL (NO PREMBLE):\n",
    "        \"\"\"\n",
    "    )\n",
    "\n",
    "chain_email = prompt_email | llm\n",
    "res = chain_email.invoke({\"job_description\": str(job), \"link_list\": links})\n",
    "print(res.content)"
   ]
  }
 ],
 "metadata": {
  "kernelspec": {
   "display_name": "Python 3",
   "language": "python",
   "name": "python3"
  },
  "language_info": {
   "codemirror_mode": {
    "name": "ipython",
    "version": 3
   },
   "file_extension": ".py",
   "mimetype": "text/x-python",
   "name": "python",
   "nbconvert_exporter": "python",
   "pygments_lexer": "ipython3",
   "version": "3.10.6"
  },
  "orig_nbformat": 4
 },
 "nbformat": 4,
 "nbformat_minor": 2
}
